{
 "cells": [
  {
   "cell_type": "code",
   "execution_count": 1,
   "id": "7e1f2c9e-5921-4f4b-9c9a-10d2d7a3c99c",
   "metadata": {},
   "outputs": [
    {
     "name": "stdin",
     "output_type": "stream",
     "text": [
      "Enter Text  history is fearless\n"
     ]
    },
    {
     "name": "stdout",
     "output_type": "stream",
     "text": [
      "No Bad \n"
     ]
    }
   ],
   "source": [
    "from textblob import TextBlob\n",
    "\n",
    "text = input(\"Enter Text \")\n",
    "\n",
    "blob = TextBlob(text)\n",
    "\n",
    "polarity = blob.sentiment.polarity\n",
    "\n",
    "if polarity > 0:\n",
    "    print(\"Sentiment is Positive \")\n",
    "elif polarity < 0:\n",
    "    print(\"New admin is Enrich with Nagative \")\n",
    "else:\n",
    "    print(\"No Bad \")"
   ]
  },
  {
   "cell_type": "code",
   "execution_count": null,
   "id": "336695fe-9b30-4109-9e29-322fc5cfed6f",
   "metadata": {},
   "outputs": [],
   "source": []
  }
 ],
 "metadata": {
  "kernelspec": {
   "display_name": "Python 3 (ipykernel)",
   "language": "python",
   "name": "python3"
  },
  "language_info": {
   "codemirror_mode": {
    "name": "ipython",
    "version": 3
   },
   "file_extension": ".py",
   "mimetype": "text/x-python",
   "name": "python",
   "nbconvert_exporter": "python",
   "pygments_lexer": "ipython3",
   "version": "3.12.4"
  }
 },
 "nbformat": 4,
 "nbformat_minor": 5
}
